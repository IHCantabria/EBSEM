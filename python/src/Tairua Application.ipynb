{
 "cells": [
  {
   "cell_type": "markdown",
   "metadata": {},
   "source": [
    "## Main file to calibrate EBSM models for Tairua data"
   ]
  },
  {
   "cell_type": "code",
   "execution_count": null,
   "metadata": {},
   "outputs": [],
   "source": [
    "# Loading libraries\n",
    "\n",
    "import os\n",
    "import scipy.io\n",
    "import numpy as np\n",
    "import pandas as pd\n",
    "import scipy.optimize as opt\n",
    "import matplotlib.pyplot as plt\n",
    "import matplotlib.dates as mdates\n",
    "from scipy.optimize import minimize\n",
    "import scipy.interpolate as interpolate\n",
    "\n",
    "os.chdir('..')\n",
    "os.chdir('./modules')\n",
    "from calibration import *\n",
    "from equilibriumModels import *\n",
    "os.chdir('..')\n",
    "os.chdir('./src')\n",
    "\n",
    "plt.rcParams.update({'font.family': 'serif'})\n",
    "plt.rcParams.update({'font.size': 7})\n",
    "plt.rcParams.update({'font.weight': 'bold'})\n",
    "font = {'family': 'serif',\n",
    "        'weight': 'bold',\n",
    "        'size': 8}"
   ]
  },
  {
   "cell_type": "code",
   "execution_count": null,
   "metadata": {},
   "outputs": [],
   "source": [
    "# Load data\n",
    "os.chdir('..')\n",
    "os.chdir('./data')\n",
    "waves = scipy.io.loadmat(\"Wave_hindcast_corrected.mat\")\n",
    "ss_past = scipy.io.loadmat(\"hindcast_SS_corr.mat\")\n",
    "ss_fut = scipy.io.loadmat(\"forecast_SS.mat\")\n",
    "shorelines = scipy.io.loadmat(\"Shorecast.mat\")\n",
    "at = scipy.io.loadmat(\"Tide_past.mat\")\n",
    "os.chdir('..')\n",
    "os.chdir('./src')\n",
    "\n",
    "# Organize variables\n",
    "\n",
    "timesf = ss_fut[\"time\"]\n",
    "Storm_Surge = ss_fut[\"Storm_Surge\"]\n",
    "Storm_surge = ss_past[\"Storm_surge\"]\n",
    "hindcast = waves[\"hindcast\"]\n",
    "Tide_past = at[\"Tide_past\"]\n",
    "Shorecast = shorelines[\"Shorecast\"]"
   ]
  },
  {
   "cell_type": "code",
   "execution_count": null,
   "metadata": {},
   "outputs": [],
   "source": [
    "# Setting calibration period\n",
    "dt = 3.0\n",
    "times = np.arange(Shorecast[\"time\"][0][0][0], Shorecast[\"time\"][0][0][-1] + dt / 24, dt / 24)\n",
    "\n",
    "AT = interpolate.interp1d(np.squeeze(Tide_past[\"time\"][0][0]), np.squeeze(Tide_past[\"tide\"][0][0]))(times)\n",
    "SS = interpolate.interp1d(np.concatenate([np.squeeze(Storm_surge[\"time\"][0][0]), np.squeeze(timesf)]), \n",
    "                          np.concatenate([np.squeeze(Storm_surge[\"SS\"][0][0]), np.squeeze(Storm_Surge)]))(times)\n",
    "Hs = interpolate.interp1d(np.squeeze(hindcast[\"time\"][0][0]), np.squeeze(hindcast[\"Hs\"][0][0]))(times)\n",
    "Tp = interpolate.interp1d(np.squeeze(hindcast[\"time\"][0][0]), np.squeeze(hindcast[\"Tp\"][0][0]))(times)\n",
    "theta = interpolate.interp1d(np.squeeze(hindcast[\"time\"][0][0]), np.squeeze(hindcast[\"Dir\"][0][0]))(times)\n",
    "\n",
    "ENS = {\"Yobs\": np.squeeze(Shorecast[\"average\"][0][0]), \"time\": np.squeeze(Shorecast[\"time\"][0][0])}\n",
    "\n",
    "ENS[\"dates\"] = pd.to_datetime(ENS[\"time\"]-719529,unit='d').round('s').to_pydatetime()\n",
    "\n",
    "dates = pd.to_datetime(times-719529,unit='d').round('s').to_pydatetime()"
   ]
  },
  {
   "cell_type": "code",
   "execution_count": null,
   "metadata": {},
   "outputs": [],
   "source": [
    "# Params setup\n",
    "d50 = 0.3e-3\n",
    "Hberm = 1\n",
    "Yi = ENS[\"Yobs\"][0]\n",
    "flagP = 4\n",
    "depth = 10\n",
    "angleBathy = 54.3\n",
    "\n",
    "indexer = np.vectorize(lambda i: np.argmin(np.abs(times - ENS[\"time\"][i])))\n",
    "\n",
    "ENS[\"indexes\"] = indexer(np.arange(0,len(ENS[\"time\"])))"
   ]
  },
  {
   "cell_type": "code",
   "execution_count": null,
   "metadata": {},
   "outputs": [],
   "source": [
    "# Initialize class for running the models\n",
    "Setup = EBSM(times, Hs, SS, AT, Tp, d50)\n",
    "Setup.LinearBreak(theta, depth, angleBathy)\n",
    "Setup.MillerDean(dt, Yi, Hberm, flagP)\n",
    "Setup.Yates09(dt, Yi)\n",
    "Setup.ShoreFor(dt, Yi)\n",
    "\n",
    "ngen = 5000\n",
    "npop = 100\n",
    "mag = 0.5"
   ]
  },
  {
   "cell_type": "code",
   "execution_count": null,
   "metadata": {},
   "outputs": [],
   "source": [
    "print(\"Starting Miller and Dean 2004...\")\n",
    "\n",
    "npar = 3\n",
    "\n",
    "def obj_md(X):\n",
    "    return Objective(\"MD\", Setup, X, \"RMSE\", ENS)\n",
    "x0_md = np.log([78.75, 6.9211e-05, 8.4790e-04])\n",
    "lb_md = np.log([60, 5e-6, 5e-5])\n",
    "ub_md = np.log([100, 1e-3, 8e-3])\n",
    "params_md, met_md = sce_ua2(obj_md, x0_md, ngen, npop, npar, mag, lb_md, ub_md)\n",
    "\n",
    "Y_md = millerDean04(Setup, np.exp(params_md))"
   ]
  },
  {
   "cell_type": "code",
   "execution_count": null,
   "metadata": {},
   "outputs": [],
   "source": []
  },
  {
   "cell_type": "code",
   "execution_count": 7,
   "metadata": {},
   "outputs": [
    {
     "name": "stderr",
     "output_type": "stream",
     "text": [
      "c:\\Users\\freitasl\\.conda\\envs\\PyJu\\lib\\site-packages\\numba\\core\\ir_utils.py:2149: NumbaPendingDeprecationWarning: \u001b[1m\n",
      "Encountered the use of a type that is scheduled for deprecation: type 'reflected list' found for argument 'params' of function 'millerDean04_jit'.\n",
      "\n",
      "For more information visit https://numba.readthedocs.io/en/stable/reference/deprecation.html#deprecation-of-reflection-for-list-and-set-types\n",
      "\u001b[1m\n",
      "File \"..\\modules\\equilibriumModels.py\", line 191:\u001b[0m\n",
      "\u001b[1m@jit(nopython = True)\n",
      "\u001b[1mdef millerDean04_jit(Hb, sl, depthb, Omega, flagP, Wast, Hberm, dt, Yi, params):\n",
      "\u001b[0m\u001b[1m^\u001b[0m\u001b[0m\n",
      "\u001b[0m\n",
      "  warnings.warn(NumbaPendingDeprecationWarning(msg, loc=loc))\n"
     ]
    },
    {
     "ename": "ValueError",
     "evalue": "too many values to unpack (expected 2)",
     "output_type": "error",
     "traceback": [
      "\u001b[1;31m---------------------------------------------------------------------------\u001b[0m",
      "\u001b[1;31mValueError\u001b[0m                                Traceback (most recent call last)",
      "Cell \u001b[1;32mIn[7], line 1\u001b[0m\n\u001b[1;32m----> 1\u001b[0m YY, yeq\u001b[39m=\u001b[39m millerDean04_jit(Setup\u001b[39m.\u001b[39mHb, Setup\u001b[39m.\u001b[39mMD[\u001b[39m\"\u001b[39m\u001b[39msl\u001b[39m\u001b[39m\"\u001b[39m], Setup\u001b[39m.\u001b[39mdepthb, Setup\u001b[39m.\u001b[39mOmega, \n\u001b[0;32m      2\u001b[0m                              Setup\u001b[39m.\u001b[39mMD[\u001b[39m\"\u001b[39m\u001b[39mflagP\u001b[39m\u001b[39m\"\u001b[39m], Setup\u001b[39m.\u001b[39mWast, Setup\u001b[39m.\u001b[39mMD[\u001b[39m\"\u001b[39m\u001b[39mHberm\u001b[39m\u001b[39m\"\u001b[39m], Setup\u001b[39m.\u001b[39mMD[\u001b[39m\"\u001b[39m\u001b[39mdt\u001b[39m\u001b[39m\"\u001b[39m],\n\u001b[0;32m      3\u001b[0m                              Setup\u001b[39m.\u001b[39mMD[\u001b[39m\"\u001b[39m\u001b[39mYi\u001b[39m\u001b[39m\"\u001b[39m], [\u001b[39m78.75\u001b[39m, \u001b[39m6.9211e-05\u001b[39m, \u001b[39m8.4790e-04\u001b[39m])\n\u001b[0;32m      5\u001b[0m YYsl \u001b[39m=\u001b[39m YY[ENS[\u001b[39m\"\u001b[39m\u001b[39mindexes\u001b[39m\u001b[39m\"\u001b[39m]]\n\u001b[0;32m      7\u001b[0m np\u001b[39m.\u001b[39msqrt(np\u001b[39m.\u001b[39mmean((YYsl \u001b[39m-\u001b[39m ENS[\u001b[39m\"\u001b[39m\u001b[39mYobs\u001b[39m\u001b[39m\"\u001b[39m])\u001b[39m*\u001b[39m\u001b[39m*\u001b[39m\u001b[39m2\u001b[39m))\n",
      "\u001b[1;31mValueError\u001b[0m: too many values to unpack (expected 2)"
     ]
    }
   ],
   "source": [
    "YY, yeq= millerDean04_jit(Setup.Hb, Setup.MD[\"sl\"], Setup.depthb, Setup.Omega, \n",
    "                             Setup.MD[\"flagP\"], Setup.Wast, Setup.MD[\"Hberm\"], Setup.MD[\"dt\"],\n",
    "                             Setup.MD[\"Yi\"], [78.75, 6.9211e-05, 8.4790e-04])\n",
    "\n",
    "YYsl = YY[ENS[\"indexes\"]]\n",
    "\n",
    "np.sqrt(np.mean((YYsl - ENS[\"Yobs\"])**2))"
   ]
  },
  {
   "cell_type": "code",
   "execution_count": null,
   "metadata": {},
   "outputs": [],
   "source": [
    "print(\"Starting Yates et al. 2009...\")\n",
    "\n",
    "npar = 4\n",
    "\n",
    "def obj_y09(X):\n",
    "    return Objective(\"Y09\", Setup, X, \"RMSE\", ENS)\n",
    "x0_y09 = np.log([0.1143, 9.6392, 0.0034, 0.0038])\n",
    "lb_y09 = np.log([0.01, 1, 1e-4, 0.001])\n",
    "ub_y09 = np.log([0.3, 15, 0.05, 0.01])\n",
    "params_y09, met_y09 = sce_ua2(obj_y09, x0_y09, ngen, npop, npar, mag, lb_y09, ub_y09)\n",
    "Y_y09 = yates09(Setup, np.exp(params_y09))"
   ]
  },
  {
   "cell_type": "code",
   "execution_count": null,
   "metadata": {},
   "outputs": [],
   "source": [
    "print(\"Starting ShoreFor...\")\n",
    "\n",
    "npar = 3\n",
    "\n",
    "def obj_sf(X):\n",
    "    return Objective(\"SF\", Setup, X, \"RMSE\", ENS)\n",
    "x0_sf = np.log([100, 3.7057e-05, 64])\n",
    "lb_sf = np.log([60, 0.5e-5, 50])\n",
    "ub_sf = np.log([200, 5e-3, 80])\n",
    "params_sf, met_sf = sce_ua2(obj_sf, x0_sf, ngen, npop, npar, mag, lb_sf, ub_sf)\n",
    "Y_sf = shorefor(Setup, np.exp(params_sf))"
   ]
  },
  {
   "cell_type": "code",
   "execution_count": null,
   "metadata": {},
   "outputs": [],
   "source": [
    "plt.figure(figsize=(10, 2), dpi=300, linewidth=5, edgecolor=\"#04253a\")\n",
    "plt.scatter(ENS[\"dates\"], ENS[\"Yobs\"], s = 1, c = 'grey', label = 'Observed data')\n",
    "plt.plot(dates, Y_md, lw = 0.5, color = 'b', label = r'Miller and Dean 2004')\n",
    "plt.plot(dates, Y_y09, lw = 0.5, color = 'r', label = r'Yates et al. 2009')\n",
    "plt.plot(dates, Y_sf, lw = 0.5, color = 'k', label = r'Davidson et al. 2013')\n",
    "plt.ylabel('Y [m]', fontdict=font)\n",
    "plt.legend(ncol = 4,prop={'size': 6}, loc = 'upper center')\n",
    "plt.xlim((dates[0], dates[-1]))\n",
    "plt.grid(visible=True, which='both', linestyle = '--', linewidth = 0.5)\n",
    "# plt.gca().xaxis.set_major_formatter(mdates.DateFormatter(''))"
   ]
  }
 ],
 "metadata": {
  "kernelspec": {
   "display_name": "PyJu",
   "language": "python",
   "name": "python3"
  },
  "language_info": {
   "codemirror_mode": {
    "name": "ipython",
    "version": 3
   },
   "file_extension": ".py",
   "mimetype": "text/x-python",
   "name": "python",
   "nbconvert_exporter": "python",
   "pygments_lexer": "ipython3",
   "version": "3.9.17"
  },
  "orig_nbformat": 4
 },
 "nbformat": 4,
 "nbformat_minor": 2
}
